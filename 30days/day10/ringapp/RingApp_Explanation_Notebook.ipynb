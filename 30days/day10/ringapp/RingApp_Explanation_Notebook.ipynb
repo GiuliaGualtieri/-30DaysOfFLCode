{
 "cells": [
  {
   "cell_type": "markdown",
   "metadata": {},
   "source": [
    "# main.py Explanation Notebook\n",
    "\n",
    "## Importing Necessary Libraries"
   ]
  },
  {
   "cell_type": "code",
   "execution_count": null,
   "metadata": {},
   "outputs": [],
   "source": [
    "import os\n",
    "from pathlib import Path\n",
    "from typing import List\n",
    "from syftbox.lib import Client, SyftPermission\n",
    "from pydantic import BaseModel\n",
    "from pydantic_core import from_json\n",
    "import logging\n",
    "\n",
    "logger = logging.getLogger(__name__)"
   ]
  },
  {
   "cell_type": "markdown",
   "metadata": {},
   "source": [
    "## Constants"
   ]
  },
  {
   "cell_type": "code",
   "execution_count": null,
   "metadata": {},
   "outputs": [],
   "source": [
    "RING_APP_PATH = Path(os.path.abspath(__file__)).parent\n",
    "CUSTOM_RING_APP_NAME = \"ringapp\""
   ]
  },
  {
   "cell_type": "markdown",
   "metadata": {},
   "source": [
    "## RingData Class\n",
    "\n",
    "The `RingData` class is a Pydantic model that represents the data structure used in the ring."
   ]
  },
  {
   "cell_type": "code",
   "execution_count": null,
   "metadata": {},
   "outputs": [],
   "source": [
    "class RingData(BaseModel):\n",
    "    ring: list[str]\n",
    "    data: int\n",
    "    current_index: int\n",
    "\n",
    "    @property\n",
    "    def ring_length(self) -> int:\n",
    "        return len(self.ring)\n",
    "\n",
    "    @classmethod\n",
    "    def load_json(cls, file):\n",
    "        with open(file, \"r\") as f:\n",
    "            return cls(**from_json(f.read()))"
   ]
  },
  {
   "cell_type": "markdown",
   "metadata": {},
   "source": [
    "### Explanation:\n",
    "- `ring`: The list of email addresses in the ring, that is the list of datasites attending the ring app.\n",
    "- `data`: An integer representing the data being processed.\n",
    "- `current_index`: The current index in the ring.\n",
    "- `ring_length`: A property that returns the length of the ring.\n",
    "- `load_json`: A class method to load `RingData` from a JSON file."
   ]
  },
  {
   "cell_type": "markdown",
   "metadata": {},
   "source": [
    "Indeed, here's an example of the `data.json` file before running the app:\n",
    "```json\n",
    "{\n",
    "    \"ring\": [\"client1@email.com\", \"client2@email.com\", \"client3@email.com\"],\n",
    "    \"data\": 0,\n",
    "    \"current_index\": 0\n",
    "}\n",
    "```"
   ]
  },
  {
   "cell_type": "markdown",
   "metadata": {},
   "source": [
    "## RingRunner Class\n",
    "\n",
    "The `RingRunner` class handles the main logic of processing the ring data."
   ]
  },
  {
   "cell_type": "code",
   "execution_count": null,
   "metadata": {},
   "outputs": [],
   "source": [
    "class RingRunner:\n",
    "    def __init__(self):\n",
    "        self.client = Client.load()\n",
    "        self.my_email: str = self.client.email\n",
    "        self.ring_pipeline_path: Path = Path(self.client.datasite_path) / \"app_pipelines\" / CUSTOM_RING_APP_NAME\n",
    "        self.running_folder: Path = self.ring_pipeline_path / \"running\"\n",
    "        self.done_folder: Path = self.ring_pipeline_path / \"done\"\n",
    "        self.secret_filename: Path = \"secret.txt\""
   ]
  },
  {
   "cell_type": "markdown",
   "metadata": {},
   "source": [
    "### Explanation:\n",
    "- `__init__`: Initializes the `RingRunner` with paths and client information."
   ]
  },
  {
   "cell_type": "markdown",
   "metadata": {},
   "source": [
    "### Methods\n",
    "\n",
    "#### run"
   ]
  },
  {
   "cell_type": "code",
   "execution_count": null,
   "metadata": {},
   "outputs": [],
   "source": [
    "    def run(self) -> None:\n",
    "        self.setup_folders()\n",
    "        input_files = self.pending_inputs_files()\n",
    "        for file_name in input_files:\n",
    "            self.process_input(file_name)\n",
    "\n",
    "        if len(input_files) == 0:\n",
    "            print(\"No data file found. As you were, soldier.\")"
   ]
  },
  {
   "cell_type": "markdown",
   "metadata": {},
   "source": [
    "It is designed to manage the main workflow of processing ring data. Here's the steps:\n",
    "\n",
    "1. It first ensures that the necessary directories (`running` and `done`) are created and ready for use, by calling `self.setup_folders()` method.\n",
    "2. It retrieves a list of pending input files (JSON files) that need to be processed, by calling `self.pending_inputs_files()` method.\n",
    "3. It iterates over each file in the list of pending input files and processes them one by one, by calling ` self.process_input(file_name)` method. \n",
    "4. If no input files are found (the list is empty), it prints a message indicating that no data files were found and there is nothing to process."
   ]
  },
  {
   "cell_type": "markdown",
   "metadata": {},
   "source": [
    "#### process_input"
   ]
  },
  {
   "cell_type": "code",
   "execution_count": null,
   "metadata": {},
   "outputs": [],
   "source": [
    "    def process_input(self, file_path) -> None:\n",
    "        print(f\"Found input {file_path}! Let's get to work.\")\n",
    "        logger.debug(file_path)\n",
    "        ring_data = RingData.load_json(file_path)\n",
    "\n",
    "        actual_email = next_person = ring_data.ring[ring_data.current_index]\n",
    "        ring_data.data += self.my_secret(actual_email)\n",
    "        next_index = ring_data.current_index + 1\n",
    "\n",
    "        if next_index < ring_data.ring_length:\n",
    "            next_person = ring_data.ring[next_index]\n",
    "            ring_data.current_index = next_index\n",
    "            self.send_data(next_person, ring_data)\n",
    "        else:\n",
    "            self.terminate_ring(ring_data)\n",
    "\n",
    "        self.cleanup(file_path)"
   ]
  },
  {
   "cell_type": "markdown",
   "metadata": {},
   "source": [
    "#### cleanup"
   ]
  },
  {
   "cell_type": "code",
   "execution_count": null,
   "metadata": {},
   "outputs": [],
   "source": [
    "    def cleanup(self, file_path: Path) -> None:\n",
    "        file_path.unlink()\n",
    "        print(f\"Done processing {file_path}, removed from pending inputs\")"
   ]
  },
  {
   "cell_type": "markdown",
   "metadata": {},
   "source": [
    "#### setup_folders"
   ]
  },
  {
   "cell_type": "code",
   "execution_count": null,
   "metadata": {},
   "outputs": [],
   "source": [
    "    def setup_folders(self) -> None:\n",
    "        print(\"Setting up the necessary folders.\")\n",
    "        for folder in [self.running_folder, self.done_folder]:\n",
    "            folder.mkdir(parents=True, exist_ok=True)\n",
    "\n",
    "        permission = SyftPermission.mine_with_public_write(self.my_email)\n",
    "        permission.ensure(self.ring_pipeline_path)"
   ]
  },
  {
   "cell_type": "markdown",
   "metadata": {},
   "source": [
    "#### my_secret"
   ]
  },
  {
   "cell_type": "code",
   "execution_count": null,
   "metadata": {},
   "outputs": [],
   "source": [
    "    def my_secret(self, email: str = None):\n",
    "        path_secret_file = Path(self.client.sync_folder) / email / \"privatefolder\" / self.secret_filename\n",
    "        with open(path_secret_file, \"r\") as secret_file:\n",
    "            return int(secret_file.read().strip())"
   ]
  },
  {
   "cell_type": "markdown",
   "metadata": {},
   "source": [
    "This method retrieves a secret value associated with a given email. "
   ]
  },
  {
   "cell_type": "markdown",
   "metadata": {},
   "source": [
    "#### pending_inputs_files"
   ]
  },
  {
   "cell_type": "code",
   "execution_count": null,
   "metadata": {},
   "outputs": [],
   "source": [
    "    def pending_inputs_files(self) -> List[Path]:\n",
    "        return [self.running_folder / file for file in self.running_folder.glob(\"*.json\")]"
   ]
  },
  {
   "cell_type": "markdown",
   "metadata": {},
   "source": [
    "#### write_json"
   ]
  },
  {
   "cell_type": "code",
   "execution_count": null,
   "metadata": {},
   "outputs": [],
   "source": [
    "    def write_json(self, file_path: Path, result: RingData) -> None:\n",
    "        print(f\"Writing to {file_path}.\")\n",
    "        file_path.parent.mkdir(parents=True, exist_ok=True)\n",
    "        with open(file_path, \"w\") as f:\n",
    "            f.write(result.model_dump_json())"
   ]
  },
  {
   "cell_type": "markdown",
   "metadata": {},
   "source": [
    "#### send_data"
   ]
  },
  {
   "cell_type": "code",
   "execution_count": null,
   "metadata": {},
   "outputs": [],
   "source": [
    "    def send_data(self, email: str, data: RingData) -> None:\n",
    "        destination_datasite_path = Path(self.client.sync_folder) / email\n",
    "        dest = destination_datasite_path / \"app_pipelines\" / CUSTOM_RING_APP_NAME / \"running\" / \"data.json\"\n",
    "        self.write_json(dest, data)"
   ]
  },
  {
   "cell_type": "markdown",
   "metadata": {},
   "source": [
    "It's responsible for sending processed ring data to the next person in the ring."
   ]
  },
  {
   "cell_type": "markdown",
   "metadata": {},
   "source": [
    "#### terminate_ring"
   ]
  },
  {
   "cell_type": "code",
   "execution_count": null,
   "metadata": {},
   "outputs": [],
   "source": [
    "    def terminate_ring(self, data: RingData) -> None:\n",
    "        print(f\"Terminating ring, writing back to {self.done_folder}\")\n",
    "        self.write_json(self.done_folder / \"data.json\", data)"
   ]
  },
  {
   "cell_type": "markdown",
   "metadata": {},
   "source": [
    "## Main Function"
   ]
  },
  {
   "cell_type": "code",
   "execution_count": null,
   "metadata": {},
   "outputs": [],
   "source": [
    "if __name__ == \"__main__\":\n",
    "    runner = RingRunner()\n",
    "    runner.run()"
   ]
  },
  {
   "cell_type": "markdown",
   "metadata": {},
   "source": [
    "### Explanation:\n",
    "- The main function creates an instance of `RingRunner` and calls the `run` method to start the process."
   ]
  }
 ],
 "metadata": {
  "kernelspec": {
   "display_name": "Python 3",
   "language": "python",
   "name": "python3"
  },
  "language_info": {
   "codemirror_mode": {
    "name": "ipython",
    "version": 3
   },
   "file_extension": ".py",
   "mimetype": "text/x-python",
   "name": "python",
   "nbconvert_exporter": "python",
   "pygments_lexer": "ipython3",
   "version": "3.8.5"
  }
 },
 "nbformat": 4,
 "nbformat_minor": 4
}
